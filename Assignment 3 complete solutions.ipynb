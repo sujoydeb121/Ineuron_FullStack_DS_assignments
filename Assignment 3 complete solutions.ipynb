{
 "cells": [
  {
   "cell_type": "markdown",
   "source": [
    "# 1. Why are functions advantageous to have in your programs?\n",
    "Main advantages of functions in a program are:\n",
    "- code Reusability meaning it prevents the duplicating of code.\n",
    "- improves program readability\n",
    "- breaks down a big problem to smaller components  there by reducing the chances of error and fixing bugs easily\n",
    "- easy to update/modify programs using function"
   ],
   "metadata": {
    "collapsed": false
   }
  },
  {
   "cell_type": "markdown",
   "source": [
    "# 2. When does the code in a function run: when it's specified or when it's called?\n",
    "- it executes when the function is called\n",
    "- when a function is called it immediately goes to the function that was called and begins to execute the first line inside the function"
   ],
   "metadata": {
    "collapsed": false
   }
  },
  {
   "cell_type": "code",
   "execution_count": 6,
   "outputs": [],
   "source": [
    "def total_sum(n):\n",
    "    total = 0\n",
    "    for items in range(n):\n",
    "        total += items\n",
    "    return total"
   ],
   "metadata": {
    "collapsed": false
   }
  },
  {
   "cell_type": "code",
   "execution_count": 7,
   "outputs": [
    {
     "data": {
      "text/plain": "190"
     },
     "execution_count": 7,
     "metadata": {},
     "output_type": "execute_result"
    }
   ],
   "source": [
    "total_sum(20)"
   ],
   "metadata": {
    "collapsed": false
   }
  },
  {
   "cell_type": "markdown",
   "source": [
    "# 3. What statement creates a function?\n",
    "- the def keyword creates a function\n",
    "Syntax:\n",
    "<b> def function_name(parameters):\n",
    "    - \"\"\"doc string\"\"\"\n",
    "    - -----function body----\n",
    "    - -----function body-----\n",
    "    - return value </b>"
   ],
   "metadata": {
    "collapsed": false
   }
  },
  {
   "cell_type": "markdown",
   "source": [
    "# 4. What is the difference between a function and a function call?\n",
    "-  a function is a block of code that does a particular operation based on the nature of the function.\n",
    "- it usually accepts inputs as parameters and returns a result\n",
    "- parameters and return statement are optional\n",
    "- A function call means invoking or calling that specific function\n",
    "- unless the function is called, there is no use of that function"
   ],
   "metadata": {
    "collapsed": false
   }
  },
  {
   "cell_type": "code",
   "execution_count": 9,
   "outputs": [
    {
     "data": {
      "text/plain": "16"
     },
     "execution_count": 9,
     "metadata": {},
     "output_type": "execute_result"
    }
   ],
   "source": [
    "# function\n",
    "def mult_int(i):\n",
    "    return i * i\n",
    "\n",
    "# function call\n",
    "mult_int(4)"
   ],
   "metadata": {
    "collapsed": false
   }
  },
  {
   "cell_type": "markdown",
   "source": [
    "# 5. How many global scopes are there in a Python program? How many local scopes?\n",
    "- Just one Global score is possible in a python program.\n",
    "- a variable created inside the main body of the python code is a global variable and belongs to the global scope\n",
    "- A local scope is created whenever a function is called\n",
    "- a variable which is created inside a function belongs to the local scope of that function and can only be used inside that function"
   ],
   "metadata": {
    "collapsed": false
   }
  },
  {
   "cell_type": "code",
   "execution_count": 11,
   "outputs": [
    {
     "name": "stdout",
     "output_type": "stream",
     "text": [
      "300\n"
     ]
    }
   ],
   "source": [
    "def myfunc():\n",
    "  x = 300\n",
    "  print(x)\n",
    "\n",
    "myfunc()"
   ],
   "metadata": {
    "collapsed": false
   }
  },
  {
   "cell_type": "code",
   "execution_count": 13,
   "outputs": [
    {
     "ename": "NameError",
     "evalue": "name 'x' is not defined",
     "output_type": "error",
     "traceback": [
      "\u001B[1;31m---------------------------------------------------------------------------\u001B[0m",
      "\u001B[1;31mNameError\u001B[0m                                 Traceback (most recent call last)",
      "\u001B[1;32m~\\AppData\\Local\\Temp/ipykernel_20308/2890686306.py\u001B[0m in \u001B[0;36m<module>\u001B[1;34m\u001B[0m\n\u001B[1;32m----> 1\u001B[1;33m \u001B[0mprint\u001B[0m\u001B[1;33m(\u001B[0m\u001B[0mx\u001B[0m\u001B[1;33m)\u001B[0m    \u001B[1;31m# as x is a local variable of myfunc, it belongs to the local scope that function, so can't access it outside the function\u001B[0m\u001B[1;33m\u001B[0m\u001B[1;33m\u001B[0m\u001B[0m\n\u001B[0m",
      "\u001B[1;31mNameError\u001B[0m: name 'x' is not defined"
     ]
    }
   ],
   "source": [
    "print(x)    # as x is a local variable of myfunc, it belongs to the local scope that function, so can't access it outside the function"
   ],
   "metadata": {
    "collapsed": false
   }
  },
  {
   "cell_type": "code",
   "execution_count": 14,
   "outputs": [
    {
     "name": "stdout",
     "output_type": "stream",
     "text": [
      "300\n",
      "300\n"
     ]
    }
   ],
   "source": [
    "# global scope\n",
    "x = 300    # we defined it globally now so it is available\n",
    "def myfunc():\n",
    "  print(x)\n",
    "\n",
    "myfunc()\n",
    "\n",
    "print(x)"
   ],
   "metadata": {
    "collapsed": false
   }
  },
  {
   "cell_type": "markdown",
   "source": [
    "# 6. What happens to variables in a local scope when the function call returns?\n",
    "- the local scope is destroyed when a function call returns\n",
    "- all the variables in it also forgotten\n",
    "- the local variables becomes undefined after the function call completes"
   ],
   "metadata": {
    "collapsed": false
   }
  },
  {
   "cell_type": "markdown",
   "source": [
    "# 7. What is the concept of a return value? Is it possible to have a return value in an expression?\n",
    "- A return is a value that a function returns to the calling script or function when it completes its task\n",
    "- the return statement in python is used to a make a python function send a value back to the caller code\n",
    "- Like any value, a return value can be used as part of an expression."
   ],
   "metadata": {
    "collapsed": false
   }
  },
  {
   "cell_type": "markdown",
   "source": [
    " # 8. If a function does not have a return statement, what is the return value of a call to that function?\n",
    "  - in such cases, its return value is None\n",
    "  - The function always returns None if explicit return is not written"
   ],
   "metadata": {
    "collapsed": false
   }
  },
  {
   "cell_type": "markdown",
   "source": [
    "# 9. How do you make a function variable refer to the global variable?\n",
    " -  A global statement will force a variable in a function to refer to the global variable.\n",
    " - If you want to refer to a global variable in a function, you can use the global keyword to declare which variables are global."
   ],
   "metadata": {
    "collapsed": false
   }
  },
  {
   "cell_type": "markdown",
   "source": [
    "# 10. What is the data type of None?\n",
    "- NoneType\n"
   ],
   "metadata": {
    "collapsed": false
   }
  },
  {
   "cell_type": "code",
   "execution_count": 16,
   "outputs": [
    {
     "data": {
      "text/plain": "NoneType"
     },
     "execution_count": 16,
     "metadata": {},
     "output_type": "execute_result"
    }
   ],
   "source": [
    "type(None)"
   ],
   "metadata": {
    "collapsed": false
   }
  },
  {
   "cell_type": "markdown",
   "source": [
    "# 11. What does the sentence import areallyourpetsnamederic do?\n",
    "- The import statement imports a module named areallyourpetsnamederic.\n"
   ],
   "metadata": {
    "collapsed": false
   }
  },
  {
   "cell_type": "markdown",
   "source": [
    "# 12. If you had a bacon() feature in a spam module, what would you call it after importing spam?\n",
    "- it can be called using:\n",
    "- spam.bacon()"
   ],
   "metadata": {
    "collapsed": false
   }
  },
  {
   "cell_type": "markdown",
   "source": [
    "# 13. What can you do to save a programme from crashing if it encounters an error?\n",
    "- with the help of exception handling we can prevent a problem from crashing\n",
    "- We can place the line of code that might cause an error in a try clause\n",
    "- And use except block to handle the error as mentioned below \n"
   ],
   "metadata": {
    "collapsed": false
   }
  },
  {
   "cell_type": "code",
   "execution_count": 18,
   "outputs": [
    {
     "name": "stdout",
     "output_type": "stream",
     "text": [
      "An exception occurred: \n",
      " name 'joydeb' is not defined\n"
     ]
    }
   ],
   "source": [
    "try:\n",
    "  print(joydeb)\n",
    "except Exception as e:\n",
    "  print(\"An exception occurred: \\n\", e)"
   ],
   "metadata": {
    "collapsed": false
   }
  },
  {
   "cell_type": "markdown",
   "source": [
    "# 14. What is the purpose of the try clause? What is the purpose of the except clause?\n",
    "- The try except statement can handle exceptions. Exceptions may happen when you run a program.\n",
    "- The try block lets you test a block of code for errors.\n",
    "- the code inside the try block will execute when there is no error in the program.\n",
    "- The except block lets you handle the error.\n",
    "- the code inside the except block will execute whenever the program encounters some error in the preceding try block\n"
   ],
   "metadata": {
    "collapsed": false
   }
  },
  {
   "cell_type": "code",
   "execution_count": 22,
   "outputs": [
    {
     "name": "stdout",
     "output_type": "stream",
     "text": [
      "Variable z is not defined\n"
     ]
    }
   ],
   "source": [
    "try:\n",
    "  print(z)\n",
    "except NameError:\n",
    "  print(\"Variable z is not defined\")\n",
    "except:\n",
    "  print(\"Something else went wrong\")   # This statement will raise an error, because x is not defined:"
   ],
   "metadata": {
    "collapsed": false
   }
  },
  {
   "cell_type": "code",
   "execution_count": 23,
   "outputs": [
    {
     "name": "stdout",
     "output_type": "stream",
     "text": [
      "10\n",
      "the code inside try will execute if there is no error\n"
     ]
    }
   ],
   "source": [
    "k = 10\n",
    "try:\n",
    "  print(k)\n",
    "  print('the code inside try will execute if there is no error')\n",
    "except NameError:\n",
    "  print(\"Variable k is not defined\")\n",
    "except:\n",
    "  print(\"Something else went wrong\")"
   ],
   "metadata": {
    "collapsed": false
   }
  },
  {
   "cell_type": "code",
   "execution_count": null,
   "outputs": [],
   "source": [],
   "metadata": {
    "collapsed": false
   }
  }
 ],
 "metadata": {
  "kernelspec": {
   "display_name": "Python 3",
   "language": "python",
   "name": "python3"
  },
  "language_info": {
   "codemirror_mode": {
    "name": "ipython",
    "version": 2
   },
   "file_extension": ".py",
   "mimetype": "text/x-python",
   "name": "python",
   "nbconvert_exporter": "python",
   "pygments_lexer": "ipython2",
   "version": "2.7.6"
  }
 },
 "nbformat": 4,
 "nbformat_minor": 0
}
