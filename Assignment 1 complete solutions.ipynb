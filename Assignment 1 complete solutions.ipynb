{
 "cells": [
  {
   "cell_type": "markdown",
   "source": [
    "## Submitted by Sujoy Deb"
   ],
   "metadata": {
    "collapsed": false
   }
  },
  {
   "cell_type": "markdown",
   "source": [
    "# 1. In the below elements which of them are values or an expression? eg :- values can be integer or string and expressions will be mathematical operators.\n",
    "\n",
    "*\n",
    "'hello'          #\n",
    "-87.8\n",
    "-\n",
    "/\n",
    "+\n",
    "6\n",
    "\n",
    "Answer:\n",
    "    operators: *, -, /, +\n",
    "    expressions: 'hello, -87.8, 6"
   ],
   "metadata": {
    "collapsed": false
   }
  },
  {
   "cell_type": "markdown",
   "source": [
    "# 2. What is the difference between string and variable?\n",
    "\n",
    "Answer:\n",
    "    A variable is used to store information. A variable is created to assign a value to it so that we can use its value later by calling out the variable by the name we gave. It is important to note that a variable name follows certain rules as per the programming language of our choice. Example: name = \"sujoy\", num_one = 23, here name and num_one are the variables.\n",
    "    there are many kind of information that we can store in a variable. string is one of the type of information that we can store in a variable\n",
    "    A string is a group of characters or single character that is enclosed in single quotes('') or in double quotes(\"\"). we can also use triple quotes in python to write multiline strings. eg: name = \"sujoy deb joy\""
   ],
   "metadata": {
    "collapsed": false
   }
  },
  {
   "cell_type": "markdown",
   "source": [
    "# 3. Describe three different data types."
   ],
   "metadata": {
    "collapsed": false
   }
  },
  {
   "cell_type": "markdown",
   "source": [],
   "metadata": {
    "collapsed": false
   }
  },
  {
   "cell_type": "markdown",
   "source": [],
   "metadata": {
    "collapsed": false
   }
  },
  {
   "cell_type": "code",
   "execution_count": 1,
   "outputs": [],
   "source": [
    "#Three different data types:\n"
   ],
   "metadata": {
    "collapsed": false
   }
  },
  {
   "cell_type": "markdown",
   "source": [
    "# int, Float and Complex data types"
   ],
   "metadata": {
    "collapsed": false
   }
  },
  {
   "cell_type": "markdown",
   "source": [
    "Int data types: it is used to represent whole numbers or integral values such as:  num = 100\n",
    "where variable num is storing a int data type value in it"
   ],
   "metadata": {
    "collapsed": false
   }
  },
  {
   "cell_type": "markdown",
   "source": [
    "Float data types: it is used to represent floating point values i.e. the decimal values.\n",
    "example: float_num = 14.04\n",
    "here the variable float_num is storing a value '14.04' in it"
   ],
   "metadata": {
    "collapsed": false
   }
  },
  {
   "cell_type": "markdown",
   "source": [
    "Complex data type:  we use complex class to represnt them. it has two parts: real part and imaginary part.\n",
    "\n",
    "example:   a + bj\n",
    "here 'a' is real part and 'bj' is imaginary"
   ],
   "metadata": {
    "collapsed": false
   }
  },
  {
   "cell_type": "code",
   "execution_count": 6,
   "outputs": [
    {
     "name": "stdout",
     "output_type": "stream",
     "text": [
      "<class 'int'>  :- 100\n"
     ]
    }
   ],
   "source": [
    "# example for int data type\n",
    "num_int = 100\n",
    "\n",
    "print(type(num_int), \" :-\", num_int)"
   ],
   "metadata": {
    "collapsed": false
   }
  },
  {
   "cell_type": "code",
   "execution_count": 8,
   "outputs": [
    {
     "name": "stdout",
     "output_type": "stream",
     "text": [
      "<class 'float'> :-  100.04\n"
     ]
    }
   ],
   "source": [
    "# example for float data type\n",
    "float_num = 100.04\n",
    "print(type(float_num), \":- \", float_num)"
   ],
   "metadata": {
    "collapsed": false
   }
  },
  {
   "cell_type": "code",
   "execution_count": 14,
   "outputs": [
    {
     "name": "stdout",
     "output_type": "stream",
     "text": [
      "<class 'complex'> :-  (10+3j)\n"
     ]
    }
   ],
   "source": [
    "# complex data type\n",
    "complex_num = 10 + 3j\n",
    "print(type(complex_num), \":- \", complex_num)"
   ],
   "metadata": {
    "collapsed": false
   }
  },
  {
   "cell_type": "markdown",
   "source": [
    "# 4. What is an expression made up of? What do all expressions do?"
   ],
   "metadata": {
    "collapsed": false
   }
  },
  {
   "cell_type": "markdown",
   "source": [
    "An expression could consist of values, variables, operators and function calls. In python, when we execute an expression, the interpreter evaluates the result and displays the result.\n",
    "\n",
    "the operations are executed based on the precedence of the operators. This means if an expression contains multiple operators, then, their operation will be conducted sequentially on the basis of the precedence of the operators"
   ],
   "metadata": {
    "collapsed": false
   }
  },
  {
   "cell_type": "code",
   "execution_count": 18,
   "outputs": [
    {
     "data": {
      "text/plain": "52"
     },
     "execution_count": 18,
     "metadata": {},
     "output_type": "execute_result"
    }
   ],
   "source": [
    "# this is an expression where the python interpreter evaluates to 52:  \" % --> * --> - \"\n",
    "30%20*5+12-10"
   ],
   "metadata": {
    "collapsed": false
   }
  },
  {
   "cell_type": "markdown",
   "source": [
    "# 5. This assignment statements, like spam = 10. What is the difference between an expression and a statement?"
   ],
   "metadata": {
    "collapsed": false
   }
  },
  {
   "cell_type": "markdown",
   "source": [
    "an expression evaluates based on the variables, operators or function call that it has and returns a result.\n",
    "ex: 7 * 8 - 3 + 34 / 2\n",
    "\n",
    "A statement is an instruction that a Python interpreter can execute. When we type a statement, the interpreter executes it, which means that, it does whatever the statement says. In general, statements don’t have values. There are mainly four types of statements in Python, Print statements, Assignment statements, Conditional statements and Looping statements.\n",
    "Eg: nam = \"joy, I am going to be ML Research Scientist\", num = 20"
   ],
   "metadata": {
    "collapsed": false
   }
  },
  {
   "cell_type": "code",
   "execution_count": 19,
   "outputs": [
    {
     "name": "stdout",
     "output_type": "stream",
     "text": [
      " hello world\n"
     ]
    }
   ],
   "source": [
    "# example:\n",
    "7 * 8 - 3 + 34 / 2 # is an expression\n",
    "nam = \"joy, I am going to be ML Research Scientist\" # is a statement\n",
    "print(\" hello world\") # is an expression statement"
   ],
   "metadata": {
    "collapsed": false
   }
  },
  {
   "cell_type": "markdown",
   "source": [
    "# 6. After running the following code, what does the variable bacon contain?\n",
    "bacon = 22\n",
    "bacon + 1\n"
   ],
   "metadata": {
    "collapsed": false
   }
  },
  {
   "cell_type": "markdown",
   "source": [
    "the variable bacon is set to 22. the expression bacon + 1 fails to assign the value to bacon.\n"
   ],
   "metadata": {
    "collapsed": false
   }
  },
  {
   "cell_type": "code",
   "execution_count": 20,
   "outputs": [
    {
     "name": "stdout",
     "output_type": "stream",
     "text": [
      "22\n"
     ]
    }
   ],
   "source": [
    "# case 1\n",
    "bacon = 22\n",
    "bacon + 1 # didn't assign the value\n",
    "print(bacon)"
   ],
   "metadata": {
    "collapsed": false
   }
  },
  {
   "cell_type": "code",
   "execution_count": 21,
   "outputs": [
    {
     "name": "stdout",
     "output_type": "stream",
     "text": [
      "23\n"
     ]
    }
   ],
   "source": [
    "# case 2\n",
    "bacon = 22\n",
    "bacon = bacon + 1 # storing the value after assigning it to bacon\n",
    "print(bacon)"
   ],
   "metadata": {
    "collapsed": false
   }
  },
  {
   "cell_type": "markdown",
   "source": [
    "# 7. What should the values of the following two terms be?\n",
    "'spam' + 'spamspam'\n",
    "'spam' * 3\n"
   ],
   "metadata": {
    "collapsed": false
   }
  },
  {
   "cell_type": "markdown",
   "source": [
    "Both the terms will result in the same result:  'spamspamspam'\n",
    "However, one is performed using string concatenation / addition\n",
    "another is performed using string multiplication"
   ],
   "metadata": {
    "collapsed": false
   }
  },
  {
   "cell_type": "code",
   "execution_count": 23,
   "outputs": [
    {
     "name": "stdout",
     "output_type": "stream",
     "text": [
      "spamspamspam\n"
     ]
    }
   ],
   "source": [
    "# string concatenation\n",
    "print('spam' + 'spamspam')"
   ],
   "metadata": {
    "collapsed": false
   }
  },
  {
   "cell_type": "code",
   "execution_count": 24,
   "outputs": [
    {
     "data": {
      "text/plain": "'spamspamspam'"
     },
     "execution_count": 24,
     "metadata": {},
     "output_type": "execute_result"
    }
   ],
   "source": [
    "# string Multiplication\n",
    "'spam' * 3"
   ],
   "metadata": {
    "collapsed": false
   }
  },
  {
   "cell_type": "markdown",
   "source": [
    "# 8. Why is eggs a valid variable name while 100 is invalid?"
   ],
   "metadata": {
    "collapsed": false
   }
  },
  {
   "cell_type": "markdown",
   "source": [
    "simply because python language doesn't allow the naming of a variable to begin with a number.\n",
    "\n",
    "variable name can start with a letter or underscore.\n",
    "it can also contain just alpha_numeric characters and underscores(a-z; 0-9; _)\n",
    "the reserved keywords are also not allowed for naming variables\n",
    "python language is also case sensitive"
   ],
   "metadata": {
    "collapsed": false
   }
  },
  {
   "cell_type": "code",
   "execution_count": 27,
   "outputs": [
    {
     "name": "stdout",
     "output_type": "stream",
     "text": [
      "healthy food\n"
     ]
    }
   ],
   "source": [
    "egg = \"healthy food\" # valid variable initialisation\n",
    "print(egg)\n"
   ],
   "metadata": {
    "collapsed": false
   }
  },
  {
   "cell_type": "code",
   "execution_count": 29,
   "outputs": [
    {
     "ename": "SyntaxError",
     "evalue": "cannot assign to literal (Temp/ipykernel_12312/2005059385.py, line 1)",
     "output_type": "error",
     "traceback": [
      "\u001B[1;36m  File \u001B[1;32m\"C:\\Users\\jason\\AppData\\Local\\Temp/ipykernel_12312/2005059385.py\"\u001B[1;36m, line \u001B[1;32m1\u001B[0m\n\u001B[1;33m    100 = 100 # invalid variable initialization\u001B[0m\n\u001B[1;37m    ^\u001B[0m\n\u001B[1;31mSyntaxError\u001B[0m\u001B[1;31m:\u001B[0m cannot assign to literal\n"
     ]
    }
   ],
   "source": [
    "100 = 100 # invalid variable initialization\n",
    "print(100)       # will raise a syntax error"
   ],
   "metadata": {
    "collapsed": false
   }
  },
  {
   "cell_type": "markdown",
   "source": [
    "# 9. What three functions can be used to get the integer, floating-point number, or string version of a value?"
   ],
   "metadata": {
    "collapsed": false
   }
  },
  {
   "cell_type": "markdown",
   "source": [
    "Integer: int()\n",
    "\n",
    "Floating-point Number: float()\n",
    "\n",
    "String: str()"
   ],
   "metadata": {
    "collapsed": false
   }
  },
  {
   "cell_type": "code",
   "execution_count": 5,
   "outputs": [
    {
     "name": "stdout",
     "output_type": "stream",
     "text": [
      "89\n",
      "89.0\n",
      "89\n"
     ]
    }
   ],
   "source": [
    "#Examples:\n",
    "\n",
    "print(int(89.09))  # converts an input to int\n",
    "print(float(89)) # converts an input to float\n",
    "\n",
    "print(str(89)) # converts an input to string"
   ],
   "metadata": {
    "collapsed": false
   }
  },
  {
   "cell_type": "markdown",
   "source": [
    "# 10.Why does this expression cause an error? how can you fix it?\n",
    "'I have eaten ' + 99 + ' burritos.'"
   ],
   "metadata": {
    "collapsed": false
   }
  },
  {
   "cell_type": "markdown",
   "source": [
    "99 is causing the error as 99 is not a string.\n",
    "we can simply typecast 99 to a string to fix it.\n",
    "Solution is provided below:\n",
    "\n"
   ],
   "metadata": {
    "collapsed": false
   }
  },
  {
   "cell_type": "code",
   "execution_count": 13,
   "outputs": [
    {
     "name": "stdout",
     "output_type": "stream",
     "text": [
      "I have eaten 99 burritos\n"
     ]
    }
   ],
   "source": [
    "print('I have eaten ' + str(99) + ' burritos')"
   ],
   "metadata": {
    "collapsed": false
   }
  },
  {
   "cell_type": "code",
   "execution_count": null,
   "outputs": [],
   "source": [],
   "metadata": {
    "collapsed": false
   }
  }
 ],
 "metadata": {
  "kernelspec": {
   "display_name": "Python 3",
   "language": "python",
   "name": "python3"
  },
  "language_info": {
   "codemirror_mode": {
    "name": "ipython",
    "version": 2
   },
   "file_extension": ".py",
   "mimetype": "text/x-python",
   "name": "python",
   "nbconvert_exporter": "python",
   "pygments_lexer": "ipython2",
   "version": "2.7.6"
  }
 },
 "nbformat": 4,
 "nbformat_minor": 0
}
